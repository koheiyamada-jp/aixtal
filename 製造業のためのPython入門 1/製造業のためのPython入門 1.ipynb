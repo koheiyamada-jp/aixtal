{
 "cells": [
  {
   "cell_type": "markdown",
   "metadata": {},
   "source": [
    "# 製造業のためのPython入門 1 "
   ]
  },
  {
   "cell_type": "markdown",
   "metadata": {},
   "source": [
    "本講座は、**製造業の皆さんに最低限理解していただきたいPythonに関する内容**をレクチャーします。   \n",
    "\n",
    "製造業の皆さんが取得されたデータを機械学習できるように、さらには機械学習を実行するために、Pythonの作法を学びます。  \n",
    "つまり、**Pythonを習得すると、機械学習の手法を実装できる**ようになります。  \n",
    "（機械学習の手法などの理論に関してはこれ以降の講義で解説いたします。）  \n",
    "\n",
    "Python入門1では、基本的なPythonの使い方について  \n",
    "Python入門2では、機械学習に特化したツールについて\n",
    "ご紹介します。  \n",
    "\n",
    "掛け算の九九を覚えるように、最初は苦しく感じることもあるかもしれません。  \n",
    "九九を覚えた先に我々は九九を使って自由に計算をして目的の値を得る喜びを感じたように  \n",
    "本教材を素振りのように何度も繰り返して当たり前のスキルとして身についていただければ必ずや機械学習のハードルが下がることでしょう。  \n",
    "\n",
    "ご不明点は分かるようになるまで何度でも質問したり、実際に使う場面を想定して何度も繰り返して実感として理解していただきたいと思います。"
   ]
  },
  {
   "cell_type": "markdown",
   "metadata": {
    "toc": true
   },
   "source": [
    "<h1>目次<span class=\"tocSkip\"></span></h1>\n",
    "<div class=\"toc\"><ul class=\"toc-item\"><li><span><a href=\"#はじめに\" data-toc-modified-id=\"はじめに-1\"><span class=\"toc-item-num\">1&nbsp;&nbsp;</span>はじめに</a></span><ul class=\"toc-item\"><li><span><a href=\"#上から一つずつ実行しましょう\" data-toc-modified-id=\"上から一つずつ実行しましょう-1.1\"><span class=\"toc-item-num\">1.1&nbsp;&nbsp;</span>上から一つずつ実行しましょう</a></span></li><li><span><a href=\"#コメント\" data-toc-modified-id=\"コメント-1.2\"><span class=\"toc-item-num\">1.2&nbsp;&nbsp;</span>コメント</a></span></li><li><span><a href=\"#print関数\" data-toc-modified-id=\"print関数-1.3\"><span class=\"toc-item-num\">1.3&nbsp;&nbsp;</span>print関数</a></span></li><li><span><a href=\"#ググりましょう\" data-toc-modified-id=\"ググりましょう-1.4\"><span class=\"toc-item-num\">1.4&nbsp;&nbsp;</span>ググりましょう</a></span></li><li><span><a href=\"#ショートカット\" data-toc-modified-id=\"ショートカット-1.5\"><span class=\"toc-item-num\">1.5&nbsp;&nbsp;</span>ショートカット</a></span></li></ul></li><li><span><a href=\"#四則演算\" data-toc-modified-id=\"四則演算-2\"><span class=\"toc-item-num\">2&nbsp;&nbsp;</span>四則演算</a></span></li><li><span><a href=\"#変数\" data-toc-modified-id=\"変数-3\"><span class=\"toc-item-num\">3&nbsp;&nbsp;</span>変数</a></span><ul class=\"toc-item\"><li><span><a href=\"#数値\" data-toc-modified-id=\"数値-3.1\"><span class=\"toc-item-num\">3.1&nbsp;&nbsp;</span>数値</a></span></li><li><span><a href=\"#文字列\" data-toc-modified-id=\"文字列-3.2\"><span class=\"toc-item-num\">3.2&nbsp;&nbsp;</span>文字列</a></span></li><li><span><a href=\"#数値-⇔-文字列\" data-toc-modified-id=\"数値-⇔-文字列-3.3\"><span class=\"toc-item-num\">3.3&nbsp;&nbsp;</span>数値 ⇔ 文字列</a></span></li><li><span><a href=\"#変数名入力の補完\" data-toc-modified-id=\"変数名入力の補完-3.4\"><span class=\"toc-item-num\">3.4&nbsp;&nbsp;</span>変数名入力の補完</a></span></li></ul></li><li><span><a href=\"#リスト\" data-toc-modified-id=\"リスト-4\"><span class=\"toc-item-num\">4&nbsp;&nbsp;</span>リスト</a></span><ul class=\"toc-item\"><li><span><a href=\"#リストの定義\" data-toc-modified-id=\"リストの定義-4.1\"><span class=\"toc-item-num\">4.1&nbsp;&nbsp;</span>リストの定義</a></span></li><li><span><a href=\"#要素の取り扱い\" data-toc-modified-id=\"要素の取り扱い-4.2\"><span class=\"toc-item-num\">4.2&nbsp;&nbsp;</span>要素の取り扱い</a></span></li></ul></li><li><span><a href=\"#for文\" data-toc-modified-id=\"for文-5\"><span class=\"toc-item-num\">5&nbsp;&nbsp;</span>for文</a></span></li><li><span><a href=\"#if文\" data-toc-modified-id=\"if文-6\"><span class=\"toc-item-num\">6&nbsp;&nbsp;</span>if文</a></span></li><li><span><a href=\"#関数\" data-toc-modified-id=\"関数-7\"><span class=\"toc-item-num\">7&nbsp;&nbsp;</span>関数</a></span><ul class=\"toc-item\"><li><span><a href=\"#引数\" data-toc-modified-id=\"引数-7.1\"><span class=\"toc-item-num\">7.1&nbsp;&nbsp;</span>引数</a></span></li><li><span><a href=\"#戻り値\" data-toc-modified-id=\"戻り値-7.2\"><span class=\"toc-item-num\">7.2&nbsp;&nbsp;</span>戻り値</a></span></li><li><span><a href=\"#組み込み関数\" data-toc-modified-id=\"組み込み関数-7.3\"><span class=\"toc-item-num\">7.3&nbsp;&nbsp;</span>組み込み関数</a></span></li><li><span><a href=\"#定義\" data-toc-modified-id=\"定義-7.4\"><span class=\"toc-item-num\">7.4&nbsp;&nbsp;</span>定義</a></span></li><li><span><a href=\"#関数の呼び出し\" data-toc-modified-id=\"関数の呼び出し-7.5\"><span class=\"toc-item-num\">7.5&nbsp;&nbsp;</span>関数の呼び出し</a></span></li><li><span><a href=\"#ローカル変数\" data-toc-modified-id=\"ローカル変数-7.6\"><span class=\"toc-item-num\">7.6&nbsp;&nbsp;</span>ローカル変数</a></span></li></ul></li></ul></div>"
   ]
  },
  {
   "cell_type": "markdown",
   "metadata": {},
   "source": [
    "## はじめに"
   ]
  },
  {
   "cell_type": "markdown",
   "metadata": {},
   "source": [
    "### 上から一つずつ実行しましょう"
   ]
  },
  {
   "cell_type": "markdown",
   "metadata": {},
   "source": [
    "<img src=\"./pic/first.png\" width=\"800\">  "
   ]
  },
  {
   "cell_type": "markdown",
   "metadata": {},
   "source": [
    "Jupyter Notebookを起動すると、図のように「In」と表示されて右側にテキストボックスが表示されます。  \n",
    "このテキストボックスのことをセル(Cell)と呼びます。プログラムはセルに記述します。\n",
    "\n",
    "Jupyter Notebookでは、上のセルに記述した内容を記憶したまま、下のセルを実行します。  \n",
    "上のセルと下のセルに関係があるプログラムコードを記述していて、下のセルを実行させたときにエラーが出た場合、  \n",
    "**上のセルを実行していないために発生したエラー**かもしれません。\n",
    "\n",
    "実行する場合は次のショートカットが便利です。\n",
    "\n",
    " **Shift + Enter : セルを実行**"
   ]
  },
  {
   "cell_type": "markdown",
   "metadata": {},
   "source": [
    "### コメント"
   ]
  },
  {
   "cell_type": "markdown",
   "metadata": {},
   "source": [
    "次のセルを実行してみてください。"
   ]
  },
  {
   "cell_type": "code",
   "execution_count": null,
   "metadata": {},
   "outputs": [],
   "source": [
    "print(1+2)\n",
    "print(\"コメントを残します\")"
   ]
  },
  {
   "cell_type": "markdown",
   "metadata": {},
   "source": [
    "3  \n",
    "コメントを残します\n",
    "\n",
    "と表示されたらOKです。\n",
    "\n",
    "実行させたいプログラムを記述するコード内に実行に関与しないコメントを残したい場合、次のように記述します。"
   ]
  },
  {
   "cell_type": "code",
   "execution_count": null,
   "metadata": {},
   "outputs": [],
   "source": [
    "# print(1+2)\n",
    "# print(\"コメントを残します\")\n",
    "print(1+2) # print(\"コメントを残します\")"
   ]
  },
  {
   "cell_type": "markdown",
   "metadata": {},
   "source": [
    "3  \n",
    "のみが出力されたらOKです。\n",
    "\n",
    "「#」以降の入力内容は実行されないルールです。昨日自分で書いたコードですら他人が書いたコードに見えるときがあります。  \n",
    "リーダブルなコードであるために、必要なコメントは残しましょう。"
   ]
  },
  {
   "cell_type": "markdown",
   "metadata": {},
   "source": [
    "### print関数"
   ]
  },
  {
   "cell_type": "markdown",
   "metadata": {},
   "source": [
    "文字列や数値などを出力するためのツール（関数）、print関数を紹介します。  \n",
    "関数の章で詳説しますが、Pythonの標準機能（モジュール）の一つです。  \n",
    "使い方は、printの後に丸括弧「（）」とし、その中に出力したい内容を入力します。"
   ]
  },
  {
   "cell_type": "code",
   "execution_count": null,
   "metadata": {},
   "outputs": [],
   "source": [
    "print(\"Hello World!\")"
   ]
  },
  {
   "cell_type": "markdown",
   "metadata": {},
   "source": [
    "Hello World!  \n",
    "と出力されたらOKです。\n",
    "\n",
    "後述しますが、文字列を出力するときは「\"(文字列)\"」または「'(文字列)'」のようにダブルクォーテーション「\" \"」またはシングルクォーテーション「' '」で文字列を挟みます。数値はダブルクォーテーションやシングルクォーテーションで挟む必要はありません。  \n",
    "print()のように関数名の後ろの「丸括弧( )内」を引数といいますが、print関数の引数に出力したい文字列や数値を渡す（括弧内に入力する）とその値が出力されます。（print関数以外の関数では引数に対して様々な反応を示します。使いながら調べてみましょう。）  \n",
    "自分で定義した変数がコンピュータに反映されているか確認するときなど利用方法は様々です。"
   ]
  },
  {
   "cell_type": "markdown",
   "metadata": {},
   "source": [
    "### ググりましょう"
   ]
  },
  {
   "cell_type": "markdown",
   "metadata": {},
   "source": [
    "プログラミングにおいては、**ググることは大切な方法**です。  \n",
    "\n",
    "プログラマーの誰もが、わからないことを検索して使ってみて、エラーが出て、また検索して修正する、という作業の繰り返しです。  \n",
    "エラーの意味を理解したいとき、関数をどう使えばよいかわからないとき、こんなことできないかな？という曖昧な疑問があるときなど。  \n",
    "\n",
    "最初は検索キーワードの選び方が難しくて欲しい答えにたどり着くまでに時間がかかりますが、  \n",
    "特に周囲に気軽に質問できない環境では、ググってみましょう。"
   ]
  },
  {
   "cell_type": "markdown",
   "metadata": {},
   "source": [
    "### ショートカット"
   ]
  },
  {
   "cell_type": "markdown",
   "metadata": {},
   "source": [
    "セルの外側をクリックしてhを選択すると、ショートカット一覧が閲覧できます。  \n",
    "ここでは頻出ショートカットを紹介します。  \n",
    "\n",
    "- Shift + Enter： 実⾏して下のセルにカーソル移動\n",
    "- Ctrl + Enter： 実行のみ\n",
    "- Alt + Enter： 実行して下に空のセルを作成\n",
    "- Ctrl + s： 保存(autosave 対応だが、こまめに保存)\n",
    "- コメントにしたい領域を選択して、Ctrl + /： 選択した領域をコメント化"
   ]
  },
  {
   "cell_type": "markdown",
   "metadata": {},
   "source": [
    "## 四則演算\n",
    "\n",
    "簡単な計算をしてみましょう。  "
   ]
  },
  {
   "cell_type": "code",
   "execution_count": null,
   "metadata": {},
   "outputs": [],
   "source": [
    "# a, b, cに数値を代入して実行（Shift + Enter）しましょう。\n",
    "a=3\n",
    "b=4\n",
    "c=5"
   ]
  },
  {
   "cell_type": "markdown",
   "metadata": {},
   "source": [
    "以下の四則演算を実行してみましょう。"
   ]
  },
  {
   "cell_type": "code",
   "execution_count": null,
   "metadata": {},
   "outputs": [],
   "source": [
    "a+b # 足し算"
   ]
  },
  {
   "cell_type": "code",
   "execution_count": null,
   "metadata": {},
   "outputs": [],
   "source": [
    "a-b # 引き算"
   ]
  },
  {
   "cell_type": "code",
   "execution_count": null,
   "metadata": {},
   "outputs": [],
   "source": [
    "a*b # 掛け算"
   ]
  },
  {
   "cell_type": "code",
   "execution_count": null,
   "metadata": {},
   "outputs": [],
   "source": [
    "b/a # 割り算"
   ]
  },
  {
   "cell_type": "code",
   "execution_count": null,
   "metadata": {},
   "outputs": [],
   "source": [
    "b//a # 割り算＆切り捨て"
   ]
  },
  {
   "cell_type": "code",
   "execution_count": null,
   "metadata": {},
   "outputs": [],
   "source": [
    "b%a # 余り"
   ]
  },
  {
   "cell_type": "code",
   "execution_count": null,
   "metadata": {},
   "outputs": [],
   "source": [
    "a**b # べき乗"
   ]
  },
  {
   "cell_type": "code",
   "execution_count": null,
   "metadata": {},
   "outputs": [],
   "source": [
    "a*(b+c)\n",
    "# 足し算や引き算、掛け算や割り算が混ざった計算は、掛け算や割り算が優先されます。丸括弧「（　）」を使い計算の順番をコントロールします。"
   ]
  },
  {
   "cell_type": "markdown",
   "metadata": {},
   "source": [
    "## 変数\n",
    "変数は「データの入った入れ物」  \n",
    "変数の名前は具体的にわかりやすく！ネーミングツールに「codic」を活用してみましょう。  \n",
    "「codic」は変数の説明を日本語で入力すると、英語に翻訳して単語をアンダーバーで結んで提案してくれます。  \n",
    "良い例）「material_temp」、「calculate_sales」　悪い例）「a」、「get_value」"
   ]
  },
  {
   "cell_type": "markdown",
   "metadata": {},
   "source": [
    "変数の定義  \n",
    "    **変数名　＝　データ**  \n",
    "    解説）変数にデータを代入する操作"
   ]
  },
  {
   "cell_type": "markdown",
   "metadata": {},
   "source": [
    "### 数値"
   ]
  },
  {
   "cell_type": "markdown",
   "metadata": {},
   "source": [
    "変数名を決めて、赤道面での地球の直径[km] = 12756.3 を代入してみましょう。"
   ]
  },
  {
   "cell_type": "code",
   "execution_count": null,
   "metadata": {},
   "outputs": [],
   "source": []
  },
  {
   "cell_type": "markdown",
   "metadata": {},
   "source": [
    "変数名を決めて、赤道面での月の直径[km] = 3474.3を代入してみましょう。"
   ]
  },
  {
   "cell_type": "code",
   "execution_count": null,
   "metadata": {},
   "outputs": [],
   "source": []
  },
  {
   "cell_type": "markdown",
   "metadata": {},
   "source": [
    "### 文字列"
   ]
  },
  {
   "cell_type": "markdown",
   "metadata": {},
   "source": [
    "Pythonで文字列を定義するためには、  \n",
    "**「\"(文字列)\"」**または**「'(文字列)'」**  \n",
    "のようにダブルクォーテーション「\" \"」またはシングルクォーテーション「' '」で文字列を挟みます。"
   ]
  },
  {
   "cell_type": "markdown",
   "metadata": {},
   "source": [
    "変数名を決めて、文字列「Hello World!」を代入してみましょう。"
   ]
  },
  {
   "cell_type": "code",
   "execution_count": null,
   "metadata": {},
   "outputs": [],
   "source": []
  },
  {
   "cell_type": "markdown",
   "metadata": {},
   "source": [
    "変数名を決めて、文字列「0123456」を代入してみましょう。"
   ]
  },
  {
   "cell_type": "code",
   "execution_count": null,
   "metadata": {},
   "outputs": [],
   "source": []
  },
  {
   "cell_type": "markdown",
   "metadata": {},
   "source": [
    "### 数値 ⇔ 文字列"
   ]
  },
  {
   "cell_type": "markdown",
   "metadata": {},
   "source": [
    "数値と文字列を同列に扱うことが出来ません。  "
   ]
  },
  {
   "cell_type": "code",
   "execution_count": null,
   "metadata": {},
   "outputs": [],
   "source": [
    "day = 24\n",
    "date = day + \"日\""
   ]
  },
  {
   "cell_type": "markdown",
   "metadata": {},
   "source": [
    "実行するとエラーになります。エラーを読むと'int（数値型）' and 'str（文字列型）'の\" + （結合）\"は対応していないといわれています。  \n",
    "変数dayは数値型  \n",
    "変数dateは数値型+文字列型となっており、型の違うデータ同士で足し算をしようとしているのでエラーになります。  \n",
    "そこで、型を変換する方法が必要になります。"
   ]
  },
  {
   "cell_type": "code",
   "execution_count": null,
   "metadata": {},
   "outputs": [],
   "source": [
    "day = 24\n",
    "str_day = str(day) # 数値型の変数dayを文字列型str_dayに変換\n",
    "date = str_day + \"日\" #変数date = 文字列型 + 文字列型 となり同じ型同士の計算になる\n",
    "date"
   ]
  },
  {
   "cell_type": "markdown",
   "metadata": {},
   "source": [
    "\"24日\"と出力されたらOKです。"
   ]
  },
  {
   "cell_type": "markdown",
   "metadata": {},
   "source": [
    "変数名を決めて、省略した円周率( 3.14159 )を数値型として代入してみましょう。"
   ]
  },
  {
   "cell_type": "code",
   "execution_count": null,
   "metadata": {},
   "outputs": [],
   "source": []
  },
  {
   "cell_type": "markdown",
   "metadata": {},
   "source": [
    "円周率を代入した変数を文字列型に変換しましょう。"
   ]
  },
  {
   "cell_type": "code",
   "execution_count": null,
   "metadata": {},
   "outputs": [],
   "source": []
  },
  {
   "cell_type": "markdown",
   "metadata": {},
   "source": [
    "変数を用いて「円周率は3.14159とする。」をprint関数を用いて表示しましょう。"
   ]
  },
  {
   "cell_type": "code",
   "execution_count": null,
   "metadata": {},
   "outputs": [],
   "source": []
  },
  {
   "cell_type": "markdown",
   "metadata": {},
   "source": [
    "まとめ  \n",
    "- 数値型→文字列型：str()  \n",
    "- 文字列型→数値型：int()、float()  \n",
    "- int()：整数に相当する文字列を変換するための関数  \n",
    "- float()：小数点を含む数に相当する文字列を変換する関数"
   ]
  },
  {
   "cell_type": "markdown",
   "metadata": {},
   "source": [
    "変数名を決めて、マラソン距離[km]（42.195）を文字列として代入した変数をint型に変更しましょう。"
   ]
  },
  {
   "cell_type": "code",
   "execution_count": null,
   "metadata": {},
   "outputs": [],
   "source": []
  },
  {
   "cell_type": "markdown",
   "metadata": {},
   "source": [
    "実行するとエラーになります。小数点以下を含む文字列を整数型にするint型に変更することができないからです。  \n",
    "小数点以下を含む文字列はfloat型に変更可能です。"
   ]
  },
  {
   "cell_type": "markdown",
   "metadata": {},
   "source": [
    "変数名を決めて、マラソン距離[km]（42.195）を文字列として代入した変数をfloat型に変更しましょう。"
   ]
  },
  {
   "cell_type": "code",
   "execution_count": null,
   "metadata": {},
   "outputs": [],
   "source": []
  },
  {
   "cell_type": "markdown",
   "metadata": {},
   "source": [
    "### 変数名入力の補完"
   ]
  },
  {
   "cell_type": "markdown",
   "metadata": {},
   "source": [
    "自分で定義した変数名も含む、そのJupyter Notebook内で使用した全ての変数名について  \n",
    "変数名の先頭数文字を入力して「**Tabキー**」を押すだけで、変数名の候補を挙げてくれる機能があります。\n",
    "\n",
    "例えば、これまでに変数「message」を定義していたとします。  \n",
    "再び変数「message」を使用することになり、入力をしなければなりません。  \n",
    "しかし、文字数の多く入力が面倒であったり、タイプミスのリスクがあります。  \n",
    "変数名からその意味を理解する必要性から文字数が長くなることは仕方のない場合があるので、このような問題が生じます。\n",
    "\n",
    "その際に、最初の数文字を入力してから「Tabキー」を押すと、  \n",
    "変数の候補を挙げてくれるのでそれを選択すればOKです。"
   ]
  },
  {
   "cell_type": "markdown",
   "metadata": {},
   "source": [
    "## リスト"
   ]
  },
  {
   "cell_type": "markdown",
   "metadata": {},
   "source": [
    "リストは、数値や文字列などの複数のデータを並べて管理できるツールです。  \n",
    "よく見慣れている、数値や文字列をExcelの表のように配列したデータはリストともいえます。"
   ]
  },
  {
   "cell_type": "markdown",
   "metadata": {},
   "source": [
    "次のような配列データをリストといいます。 \n",
    "\n",
    "<img src=\"./pic/6x6_table.png\" width=\"300\">  \n",
    "\n",
    "\n",
    "上図の2次元配列を例に\"array_6x6\"としてPythonで作成してみましょう。"
   ]
  },
  {
   "cell_type": "code",
   "execution_count": null,
   "metadata": {},
   "outputs": [],
   "source": [
    "array_6x6=[[3.0, 2.7, 8.2, 5.3, 8.7, 7.1],\n",
    "           [9.3, 4.0, 2.5, 4.1, 6.1, 8.1],\n",
    "           [6.3, 7.1, 4.4, 8.3, 9.0, 3.1],\n",
    "           [2.7, 9.9, 7.0, 2.1, 8.9, 1.0],\n",
    "           [8.0, 9.6, 7.5, 2.5, 6.3, 2.9],\n",
    "           [4.5, 2.2, 1.6, 5.6, 3.0, 9.0]]\n",
    "# 行と列を見やすくするために1行ずつ改行していますが、改行しなくても実行できます。\n",
    "array_6x6"
   ]
  },
  {
   "cell_type": "markdown",
   "metadata": {},
   "source": [
    "リストarray_6x6はリスト[3.0, 2.7, 8.2, 5.3, 8.7, 7.1]、リスト[9.3, 4.0, 2.5, 4.1, 6.1, 8.1]、...、リスト[4.5, 2.2, 1.6, 5.6, 3.0, 9.0]の集合体です。\n",
    "\n",
    "注意）2次元配列の場合、行ごとに角括弧（[...]）でくくられ、カンマ（,）を置いて次の行、のように記述します。"
   ]
  },
  {
   "cell_type": "markdown",
   "metadata": {},
   "source": [
    "### リストの定義"
   ]
  },
  {
   "cell_type": "markdown",
   "metadata": {},
   "source": [
    "リストは角括弧（[...]）を使って定義します。  \n",
    "角括弧の中に要素を並べます。  \n",
    "\n",
    "**[要素0, 要素1, 要素2, ...]**  \n",
    "例）[0, 1, 2, 3, 4]  \n",
    "例）[りんご, みかん, ぶどう, もも]\n",
    "\n",
    "リストは数値だけでなく文字列を要素とすることもできます。"
   ]
  },
  {
   "cell_type": "markdown",
   "metadata": {},
   "source": [
    "文字列や数値を要素としたリストを2種類作成して出力してみましょう。  \n",
    "それぞれのリストに変数名を付けて代入しましょう。"
   ]
  },
  {
   "cell_type": "code",
   "execution_count": null,
   "metadata": {},
   "outputs": [],
   "source": []
  },
  {
   "cell_type": "code",
   "execution_count": null,
   "metadata": {},
   "outputs": [],
   "source": []
  },
  {
   "cell_type": "markdown",
   "metadata": {},
   "source": [
    "作成した2つのリストを連結してみましょう。\n",
    "連結して出来るリスト名を\"combination_list\"として作成した2つの変数名を、  \n",
    "\"1つめの変数\"と\"2つめの変数\"に入力して結果を出力します。"
   ]
  },
  {
   "cell_type": "code",
   "execution_count": null,
   "metadata": {},
   "outputs": [],
   "source": [
    "combination_list = \"1つめの変数\" + \"2つめの変数\"\n",
    "combination_list"
   ]
  },
  {
   "cell_type": "markdown",
   "metadata": {},
   "source": [
    "もしかしたらエラーが出ませんでしたか？その場合、ダブルクォーテーションを外しましょう。  \n",
    "ダブルクォーテーションやシングルクォーテーションで囲まれたものは文字列として認識されるので、文字列の結合として出力されます。"
   ]
  },
  {
   "cell_type": "markdown",
   "metadata": {},
   "source": [
    "リストの中身同士の結合が出力されたらOKです。足し算記号ですが、結果はリストの連結になっていることが分かります。"
   ]
  },
  {
   "cell_type": "markdown",
   "metadata": {},
   "source": [
    "### 要素の取り扱い"
   ]
  },
  {
   "cell_type": "markdown",
   "metadata": {},
   "source": [
    "リストの中の要素には**インデックス（見出し番号）**が割り振られています。  \n",
    "以下の変数fruitsを例にしてみましょう。<img src=\"./pic/fruits1.png\" width=\"600\">   \n",
    "リストの要素を取り出してみましょう。  \n",
    "具体的には、変数fruitsの中の「みかん」をとりだしてみます。"
   ]
  },
  {
   "cell_type": "code",
   "execution_count": null,
   "metadata": {},
   "outputs": [],
   "source": [
    "fruits = [\"りんご\",\"みかん\",\"ぶどう\",\"もも\"]\n",
    "mikan = fruits[1]\n",
    "print(mikan)"
   ]
  },
  {
   "cell_type": "markdown",
   "metadata": {},
   "source": [
    "1つの要素だけでなく、連続した複数の要素を指定する方法を**スライス**といいます。  \n",
    "このように変数の後に角括弧（[ ] ）をつけて、その中にインデックス番号を入力します。  \n",
    "変数fruitsのうち、インデックス番号1の\"みかん\"～インデックス番号2の\"ぶどう\"をとり出してみましょう。"
   ]
  },
  {
   "cell_type": "code",
   "execution_count": null,
   "metadata": {},
   "outputs": [],
   "source": [
    "fruits_partial = fruits[1:3]\n",
    "fruits_partial"
   ]
  },
  {
   "cell_type": "markdown",
   "metadata": {},
   "source": [
    "実行すると、\"みかん\"と\"ぶどう\"がとり出せたことが分かります。  \n",
    "このように角括弧の中に、  \n",
    "**[選択したい最初の要素のインデックス番号 : 最後の要素のインデックス番号に1を足した値]**  \n",
    "と入力します。試してみましょう。  \n"
   ]
  },
  {
   "cell_type": "markdown",
   "metadata": {},
   "source": [
    "以上が要素の選択ですが、他にも要素の置き換え、削除、追加などの操作（メソッド）があります。  \n",
    "使いながら機能を確認しましょう。"
   ]
  },
  {
   "cell_type": "code",
   "execution_count": null,
   "metadata": {},
   "outputs": [],
   "source": [
    "fruits[3] = \"かき\" # 要素の置き換え\n",
    "fruits"
   ]
  },
  {
   "cell_type": "code",
   "execution_count": null,
   "metadata": {},
   "outputs": [],
   "source": [
    "fruits[4] =\"すいか\" # 要素の書き換え\n",
    "fruits"
   ]
  },
  {
   "cell_type": "markdown",
   "metadata": {},
   "source": [
    "エラーメッセージを読んでみましょう。  \n",
    "index out of rangeですからインデックスの4番目が範囲外であるため書き換えできないといわれています。"
   ]
  },
  {
   "cell_type": "code",
   "execution_count": null,
   "metadata": {},
   "outputs": [],
   "source": [
    "fruits.append(\"いちご\") # 末尾へ要素の追加\n",
    "fruits"
   ]
  },
  {
   "cell_type": "code",
   "execution_count": null,
   "metadata": {},
   "outputs": [],
   "source": [
    "fruits[1:3] = [\"ばなな\", \"さくらんぼ\"] # 任意インデックスへスライスを使った要素の置き換え\n",
    "fruits"
   ]
  },
  {
   "cell_type": "code",
   "execution_count": null,
   "metadata": {},
   "outputs": [],
   "source": [
    "del fruits[0] # インデックス指定での要素の削除\n",
    "fruits"
   ]
  },
  {
   "cell_type": "code",
   "execution_count": null,
   "metadata": {},
   "outputs": [],
   "source": [
    "fruits.remove(\"さくらんぼ\") # 要素指定での要素の削除\n",
    "fruits"
   ]
  },
  {
   "cell_type": "code",
   "execution_count": null,
   "metadata": {},
   "outputs": [],
   "source": [
    "one_pop = fruits.pop(0) # インデックス指定した要素を変数one_popに返します\n",
    "print(one_pop)          # one_popに指定した要素が代入されています\n",
    "print(fruits)           # fruitsからpopで指定した要素が除かれています"
   ]
  },
  {
   "cell_type": "code",
   "execution_count": null,
   "metadata": {},
   "outputs": [],
   "source": [
    "fruits.reverse() # 並び順を逆にします\n",
    "fruits"
   ]
  },
  {
   "cell_type": "markdown",
   "metadata": {},
   "source": [
    "リストを操作するメソッドは他にもあります。調べて試してみてください。"
   ]
  },
  {
   "cell_type": "markdown",
   "metadata": {},
   "source": [
    "リストのスライスは、リストの要素の一部を切り取って返してくれる仕組みのことで  \n",
    "1次元リストについては上で既に学習しました。  \n",
    "\n",
    "2次元リストのスライスを以下で学びましょう。"
   ]
  },
  {
   "cell_type": "markdown",
   "metadata": {},
   "source": [
    "<img src=\"./pic/6x6_table3.png\" width=\"300\">"
   ]
  },
  {
   "cell_type": "markdown",
   "metadata": {},
   "source": [
    "緑で囲んだ要素をとりだしましょう。"
   ]
  },
  {
   "cell_type": "code",
   "execution_count": null,
   "metadata": {},
   "outputs": [],
   "source": [
    "array_6x6=[[3.0, 2.7, 8.2, 5.3, 8.7, 7.1],\n",
    "           [9.3, 4.0, 2.5, 4.1, 6.1, 8.1],\n",
    "           [6.3, 7.1, 4.4, 8.3, 9.0, 3.1],\n",
    "           [2.7, 9.9, 7.0, 2.1, 8.9, 1.0],\n",
    "           [8.0, 9.6, 7.5, 2.5, 6.3, 2.9],\n",
    "           [4.5, 2.2, 1.6, 5.6, 3.0, 9.0]]\n",
    "\n",
    "array_6x6"
   ]
  },
  {
   "cell_type": "code",
   "execution_count": null,
   "metadata": {},
   "outputs": [],
   "source": [
    "array_green = array_6x6[4][1:6]\n",
    "array_green"
   ]
  },
  {
   "cell_type": "markdown",
   "metadata": {},
   "source": [
    "リストである2次元配列array_6x6の中でインデックス4番目のリスト[8.0, 9.6, 7.5, 2.5, 6.3, 2.9]の中で、  \n",
    "インデックス1～5の要素[9.6, 7.5, 2.5, 6.3, 2.9]を取り出しました。  \n",
    "つまりリストの後には、そのリストの要素インデックスを指定した番号を角括弧内に入力すると、要素を取り出すことが出来ます。"
   ]
  },
  {
   "cell_type": "markdown",
   "metadata": {},
   "source": [
    "次に青で囲んだ要素をとり出してみましょう。<img src=\"./pic/6x6_table2.png\" width=\"300\">\n",
    "\n",
    "次のセルでarray_6x6の後になんと記述すればよいでしょうか？"
   ]
  },
  {
   "cell_type": "code",
   "execution_count": null,
   "metadata": {},
   "outputs": [],
   "source": [
    "array_blue = array_6x6\n",
    "array_blue"
   ]
  },
  {
   "cell_type": "markdown",
   "metadata": {},
   "source": [
    "申し訳ありません。リストの2次元配列では、青で囲んだ縦方向の要素の取り出しは角括弧による**スライス**を使うことができません。  \n",
    "他の方法を駆使すれば、可能です。  \n",
    "たとえば、"
   ]
  },
  {
   "cell_type": "code",
   "execution_count": null,
   "metadata": {},
   "outputs": [],
   "source": [
    "array_blue=[]  # 空のリストを用意して、以降appendでリスト内に要素を追加していきます\n",
    "array_blue.append(array_6x6[0][2]) # リストarray_6x6の要素インデックス0のリストのインデックス2の値をリストarray_blueに追加\n",
    "array_blue.append(array_6x6[1][2]) # リストarray_6x6の要素インデックス1のリストのインデックス2の値をリストarray_blueに追加\n",
    "array_blue.append(array_6x6[2][2]) # リストarray_6x6の要素インデックス2のリストのインデックス2の値をリストarray_blueに追加\n",
    "array_blue.append(array_6x6[3][2])\n",
    "array_blue.append(array_6x6[4][2])\n",
    "array_blue.append(array_6x6[5][2])\n",
    "array_blue"
   ]
  },
  {
   "cell_type": "markdown",
   "metadata": {},
   "source": [
    "リストの要素数を調べるには**len関数**を使います。  \n",
    "実際に使ってみましょう。"
   ]
  },
  {
   "cell_type": "code",
   "execution_count": null,
   "metadata": {},
   "outputs": [],
   "source": [
    "English_score = [89, 67, 93, 72, 84]\n",
    "len(English_score)"
   ]
  },
  {
   "cell_type": "markdown",
   "metadata": {},
   "source": [
    "リストEnglish_scoreに5人分のスコアが入っていたとして、その要素の個数が出力されます。\n",
    "次に示すリストの要素数はいくつになるでしょうか？"
   ]
  },
  {
   "cell_type": "code",
   "execution_count": null,
   "metadata": {},
   "outputs": [],
   "source": [
    "tmp_list = [\"Python\", 9, 0, [\"Japan\", \"soccer\"]]\n",
    "len(tmp_list)"
   ]
  },
  {
   "cell_type": "markdown",
   "metadata": {},
   "source": [
    "要素は\"Python\"、9、0、\"Japan\"、\"soccer\"の5個と思うかもしれません。  \n",
    "\"Python\"、9、0、[\"Japan\"、\"soccer\"]の4個なのです。\"Japan\"と\"soccer\"を1つとカウントされます。  \n",
    "それでは、以下のコードを実行したらいくつになるかわかりますよね？"
   ]
  },
  {
   "cell_type": "code",
   "execution_count": null,
   "metadata": {},
   "outputs": [],
   "source": [
    "len(array_6x6)"
   ]
  },
  {
   "cell_type": "markdown",
   "metadata": {},
   "source": [
    "array_6x6というリストのlen関数は、以下のリスト個数を表します。  \n",
    "[3.0, 2.7, 8.2, 5.3, 8.7, 7.1]  :1個目  \n",
    "[9.3, 4.0, 2.5, 4.1, 6.1, 8.1]  :2個目  \n",
    "[6.3, 7.1, 4.4, 8.3, 9.0, 3.1]  :3個目  \n",
    "[2.7, 9.9, 7.0, 2.1, 8.9, 1.0]  :4個目  \n",
    "[8.0, 9.6, 7.5, 2.5, 6.3, 2.9]  :5個目  \n",
    "[4.5, 2.2, 1.6, 5.6, 3.0, 9.0]  :6個目  "
   ]
  },
  {
   "cell_type": "code",
   "execution_count": null,
   "metadata": {},
   "outputs": [],
   "source": [
    "len(array_6x6[0])"
   ]
  },
  {
   "cell_type": "markdown",
   "metadata": {},
   "source": [
    "array_6x6というリストの中のインデックス0番目のリストの要素の個数を表します。  \n",
    "[3.0:      1個目  \n",
    " 2.7 :     2個目  \n",
    " 8.2  :    3個目  \n",
    " 5.3   :   4個目  \n",
    " 8.7    :  5個目  \n",
    " 7.1]    : 6個目  "
   ]
  },
  {
   "cell_type": "markdown",
   "metadata": {},
   "source": [
    "数値のみを要素とするリストでは合計、最大値、最小値を計算することが出来ます。"
   ]
  },
  {
   "cell_type": "code",
   "execution_count": null,
   "metadata": {},
   "outputs": [],
   "source": [
    "sum([2.4, 3.7, 1.2, 6.3, 9.4]) # リスト内の各要素の合計"
   ]
  },
  {
   "cell_type": "code",
   "execution_count": null,
   "metadata": {},
   "outputs": [],
   "source": [
    "max([2.4, 3.7, 1.2, 6.3, 9.4]) # リスト内の最大値"
   ]
  },
  {
   "cell_type": "code",
   "execution_count": null,
   "metadata": {},
   "outputs": [],
   "source": [
    "sum(array_6x6[0]) # 2次元リスト内のリストを指定して、その合計"
   ]
  },
  {
   "cell_type": "code",
   "execution_count": null,
   "metadata": {},
   "outputs": [],
   "source": [
    "sum(array_6x6) # 2次元リスト内の全ての要素の合計"
   ]
  },
  {
   "cell_type": "markdown",
   "metadata": {},
   "source": [
    "リスト内の全てのリストの各要素の合計をする機能はありません。"
   ]
  },
  {
   "cell_type": "markdown",
   "metadata": {},
   "source": [
    "配列の演算についてはPythonの標準機能では出来ることが限られています。  \n",
    "ライブラリNumpyを利用することで様々な計算が出来るようになります。"
   ]
  },
  {
   "cell_type": "markdown",
   "metadata": {},
   "source": [
    "## for文"
   ]
  },
  {
   "cell_type": "markdown",
   "metadata": {},
   "source": [
    "同じ処理を繰り返すときに**for文**を用います。  \n",
    "```python\n",
    "for 繰り返し変数 in シーケンス:\n",
    "    実行するブロック\n",
    "\n",
    "```  \n",
    "繰り返し変数には慣習的には「i」、「j」が使われますが、意味付けのために「num」や「value」なども用いられます。  \n",
    "それはシーケンスの内容に依存するかもしれません。  \n",
    "シーケンスは複数の要素を持つデータをいい、例えば、  \n",
    "- 「1, 2, 3, ..., 100」のような連続した数値群\n",
    "- csvファイルの1行目から100行目のような連続したデータ群  \n",
    "- あるフォルダ内の複数のファイル群  \n",
    "です。  \n",
    "\n",
    "シーケンスの後に「コロン（:）」を入力して改行し、インデント（字数下げ）したところから実行コードを入力します。\n",
    "インデントが自動でなされないときはコロンを確認しましょう。  \n",
    "それでもインデントされない場合はTabキーを押して半角スペース4つ分空けた後に実行するコードを入力します。  \n",
    "以下で、数字を一つ出力することを繰り返すfor文を作ってみましょう。"
   ]
  },
  {
   "cell_type": "code",
   "execution_count": null,
   "metadata": {},
   "outputs": [],
   "source": [
    "numbers = [1, 2, 3, 4, 5, 6, 7, 8, 9, 10]\n",
    "for number in numbers:\n",
    "    print(number)"
   ]
  },
  {
   "cell_type": "markdown",
   "metadata": {},
   "source": [
    "実行すると1から10までの数字が一つずつ出力されるのが分かります。  \n",
    "まず、numbersという1から10までの数字の入ったリストを用意しました。これがシーケンスです。  \n",
    "for文の1行目では、このシーケンスの中の数字を1つずつ取り出して変数numberにその数字を代入します。  \n",
    "その変数numberを2行目の実行ブロックでprintするように指示しています。  \n",
    "つまり、リストnumbersから数字「1」を変数numberに代入して、変数number=1をprintせよ、ということです。  \n",
    "これをリストnumbersの1から10まで繰り返して処理することが以上の例の内容です。  \n",
    "\n",
    "messageを用意するので、そのリストから1文字ずつ出力してメッセージを表示してください。"
   ]
  },
  {
   "cell_type": "code",
   "execution_count": null,
   "metadata": {},
   "outputs": [],
   "source": [
    "message = \"Hello World!\""
   ]
  },
  {
   "cell_type": "code",
   "execution_count": null,
   "metadata": {},
   "outputs": [],
   "source": []
  },
  {
   "cell_type": "markdown",
   "metadata": {},
   "source": [
    "エラーが出た場合、コロン（:）を確認してみてください。"
   ]
  },
  {
   "cell_type": "markdown",
   "metadata": {},
   "source": [
    "numbersのような数字の連番を簡単に記述する方法としてrange関数があります。"
   ]
  },
  {
   "cell_type": "code",
   "execution_count": null,
   "metadata": {},
   "outputs": [],
   "source": [
    "for number in range(10):\n",
    "    print(number)"
   ]
  },
  {
   "cell_type": "markdown",
   "metadata": {},
   "source": [
    "実行すると0から9までの数字が一つずつ出力されるのが分かります。  \n",
    "これからわかることは、range関数の引数に入れた数値は数字0からの出力する個数です。  \n",
    "これを書き換えると以下のようになります。"
   ]
  },
  {
   "cell_type": "code",
   "execution_count": null,
   "metadata": {},
   "outputs": [],
   "source": [
    "for number in range(0,10):\n",
    "    print(number)"
   ]
  },
  {
   "cell_type": "markdown",
   "metadata": {},
   "source": [
    "ここでrange関数の引数としてどんな値を入力したら、どういった出力が得られるのかを調べてみましょう。  \n",
    "ネットで「python range関数」と検索してみましょう。記事がたくさんありますね。いくつかサイトをクリックして記事を読んでみましょう。  \n",
    "\n",
    "どんな引数を入れたらどんな結果が出力されるかわかったでしょうか？  \n",
    "それでは実際にrange関数を用いて数字1から9を一つずつ出力してみましょう。"
   ]
  },
  {
   "cell_type": "code",
   "execution_count": null,
   "metadata": {},
   "outputs": [],
   "source": []
  },
  {
   "cell_type": "markdown",
   "metadata": {},
   "source": [
    "forを重ねて使用することもあります。"
   ]
  },
  {
   "cell_type": "code",
   "execution_count": null,
   "metadata": {},
   "outputs": [],
   "source": [
    "for i in range(5):\n",
    "    print(i)\n",
    "    for j in range(3):\n",
    "        print(i,j)"
   ]
  },
  {
   "cell_type": "markdown",
   "metadata": {},
   "source": [
    "1行目で\"i\"に0が代入されます。  \n",
    "2行目では0が代入されたiを出力させます。  \n",
    "3行目では\"j\"に0が代入されます。  \n",
    "4行目では1行目で代入されたiと3行目で代入されたjの組み合わせが表示されます。  \n",
    "3行目に戻ってjに1が代入されます。  \n",
    "4行目でi=0,j=1の組み合わせが表示されます。  \n",
    "同様に、i=0,j=2の組み合わせが表示されます。  \n",
    "i=0において、jのループが終了したので、1行目に戻って\"i\"に1が代入され、同様の処理が行われます。"
   ]
  },
  {
   "cell_type": "markdown",
   "metadata": {},
   "source": [
    "実際の事例を考えてみましょう。  \n",
    "貯金や貯蓄型の保険などの資産運用で、元金に対して年利をかけた金額が年ずつ増えていくシステムがあります。  \n",
    "元金を100万円、年利を5%として、20年後にどれだけ資産が増えているかを計算してみましょう。  \n",
    "\n",
    "まず、1年でどれぐらい増えるかというと  \n",
    "100万円 × 0.05  \n",
    "が増加分です。元金100万円にこれを加えた金額が1年後の資産となります。  \n",
    "```python\n",
    "savings = 100 # 元金が100万円（単位省略）\n",
    "interest = 0.05 # 年利が0.05\n",
    "savings = savings + savings * interest # 左辺の貯蓄は、もともとの元金に増額分を加えた金額に更新される、という意味\n",
    "\n",
    "savings += savings * interest         # 他の表現方法として、+= という記述方法でコードを簡略\n",
    "```  \n",
    "Pythonで記述するとこのようになります。\n",
    "この処理を20年分繰り返します。  \n",
    "自分で計算しますか？それともfor文でパソコンに計算させますか？"
   ]
  },
  {
   "cell_type": "code",
   "execution_count": null,
   "metadata": {},
   "outputs": [],
   "source": [
    "savings = 100\n",
    "interest = 0.05\n",
    "for i in range(15):\n",
    "    savings += savings * interest\n",
    "savings"
   ]
  },
  {
   "cell_type": "markdown",
   "metadata": {},
   "source": [
    "for文では、range関数で15回`savings += savings * interest`を繰り返す操作をしています。  \n",
    "range(15)ではiが0から14となりますが、今回は15回計算することが重要であるため、i = 0に違和感を覚えるかもしれませんが、  \n",
    "問題ありません。\n",
    "下のコードのように1回の計算ごとに貯蓄額を出力すると、その仕組みが分かります。"
   ]
  },
  {
   "cell_type": "code",
   "execution_count": null,
   "metadata": {},
   "outputs": [],
   "source": [
    "for i in range(15):\n",
    "    savings += savings * interest\n",
    "    print(str(i)+\":\"+str(savings))"
   ]
  },
  {
   "cell_type": "markdown",
   "metadata": {},
   "source": [
    "## if文"
   ]
  },
  {
   "cell_type": "markdown",
   "metadata": {},
   "source": [
    "条件によって処理を分けるときに**if文**を用います。  \n",
    "```python\n",
    "if 条件式:\n",
    "    条件によって実行するブロック\n",
    "\n",
    "```  \n",
    "2行目で記述した実行内容の実行する条件を1行目に記述する、ということです。  \n",
    "```python\n",
    "if 明日の天気が晴れ:\n",
    "    遠足に行く\n",
    "```  \n",
    "さらに条件を追加したいときは以下のように記述します。\n",
    "```python\n",
    "if 明日の天気が晴れ:\n",
    "    遠足に行く\n",
    "elif 明日の天気が曇り:\n",
    "    傘を準備する\n",
    "else:\n",
    "    明日は中止にする\n",
    "```  \n",
    "elifは追加できます。  \n",
    "elseの後に条件式は記述しません。ifとelifで指定した条件の補集合を表すから説明不要なのです。  \n",
    "\n",
    "条件式の記述方法をいくつか紹介します。  \n",
    "- 数値の比較  \n",
    "- 文字列の比較  \n",
    "- リストの比較  \n",
    "- 文字列の検索  \n",
    "- リストの要素を検索  \n",
    "\n"
   ]
  },
  {
   "cell_type": "markdown",
   "metadata": {},
   "source": [
    "数値、文字列、リストの比較や検索をするための記述方法に演算子を用います。  \n",
    "  \n",
    "<img src=\"./pic/演算子.png\" width=\"400\">  \n",
    "\n",
    "実際に使ってみましょう。\n"
   ]
  },
  {
   "cell_type": "code",
   "execution_count": null,
   "metadata": {},
   "outputs": [],
   "source": [
    "if 2*5 == 10:      # 2*5と10が一致する場合\n",
    "    print(\"True\")  # Trueを出力します\n",
    "else:              # 2*5と10が一致しない場合\n",
    "    print(\"False\") # Falseを出力します\n",
    "                   # 2*5=10で当然一致しますから\"True\"と出力されるのは当然\n",
    "                   # 条件が変数によって変化する場合は効果が発揮できます"
   ]
  },
  {
   "cell_type": "markdown",
   "metadata": {},
   "source": [
    "両者が等しい演算子「==」の**イコールを2つ重ねること**、忘れないようにしましょう。"
   ]
  },
  {
   "cell_type": "code",
   "execution_count": null,
   "metadata": {},
   "outputs": [],
   "source": [
    "if 2*5 == 11:      # 2*5と11が一致する場合\n",
    "    print(\"True\")  # Trueを出力します\n",
    "else:              # 2*5と11が一致しない場合\n",
    "    print(\"False\") # Falseを出力します"
   ]
  },
  {
   "cell_type": "code",
   "execution_count": null,
   "metadata": {},
   "outputs": [],
   "source": [
    "if sum([1, 2, 3, 4, 5]) < 10:\n",
    "    print(\"True\")  \n",
    "else:              \n",
    "    print(\"False\")"
   ]
  },
  {
   "cell_type": "code",
   "execution_count": null,
   "metadata": {},
   "outputs": [],
   "source": [
    "if \"Python\" == \"Python\":\n",
    "    print(\"True\")  \n",
    "else:              \n",
    "    print(\"False\")"
   ]
  },
  {
   "cell_type": "code",
   "execution_count": null,
   "metadata": {},
   "outputs": [],
   "source": [
    "if \"Python\" == \"python\":\n",
    "    print(\"True\")  \n",
    "else:              \n",
    "    print(\"False\")"
   ]
  },
  {
   "cell_type": "code",
   "execution_count": null,
   "metadata": {},
   "outputs": [],
   "source": [
    "if [1, 2, 3, 4] == [1, 2, 3, 4]:\n",
    "    print(\"True\")  \n",
    "else:              \n",
    "    print(\"False\")"
   ]
  },
  {
   "cell_type": "code",
   "execution_count": null,
   "metadata": {},
   "outputs": [],
   "source": [
    "if [1, 2, 3, 4] == [\"1\", \"2\", \"3\", \"4\"]:\n",
    "    print(\"True\")  \n",
    "else:              \n",
    "    print(\"False\")"
   ]
  },
  {
   "cell_type": "code",
   "execution_count": null,
   "metadata": {},
   "outputs": [],
   "source": [
    "if \"高橋 修平\" in [\"平田良助\",\"大嶋洋平\",\"高橋修平\",\"大野優大\",\"小笠原新之介\"]:\n",
    "    print(\"True\")\n",
    "else:\n",
    "    print(\"False\")"
   ]
  },
  {
   "cell_type": "code",
   "execution_count": null,
   "metadata": {},
   "outputs": [],
   "source": [
    "x=15\n",
    "if x>=10 and x<=30:\n",
    "    print(\"xの値は10〜30の間\")\n",
    "else:\n",
    "    print(\"xの値は10〜30の間以外\")"
   ]
  },
  {
   "cell_type": "code",
   "execution_count": null,
   "metadata": {},
   "outputs": [],
   "source": [
    "math = 40\n",
    "science = 100\n",
    " \n",
    "if not math <= 50 and not science >= 50 or (math + science) >= 140 :\n",
    "    result = \"合格\" \n",
    "    # and で繋いだ 2 つの条件、「数学が 50 点以下でないこと」、「科学が 50 点以下でないこと」を同時に満たす場合、\n",
    "    # または、それぞれの点数に関係なく、or で繋いだ条件である合計点が 140 点以上の場合に合格\n",
    "else :   #条件をどれか 1 つでも満たさない場合は不合格\n",
    "    result = \"不合格\"\n",
    "\n",
    "print(result)\n",
    "print(\"数学\"+str(math)+\"点、科学\"+str(science)+\"点、合計\"+str(math+science)+\"点\")"
   ]
  },
  {
   "cell_type": "markdown",
   "metadata": {},
   "source": [
    "次の内容をコーディングしてみましょう。  \n",
    "\"Guido van Rossumは1989年にpythonの開発を始めた。\"という文章の中に文字列\"Python\"が含まれている場合に\"True\"、含まれていない場合に\"False\"が表示されるコード"
   ]
  },
  {
   "cell_type": "code",
   "execution_count": null,
   "metadata": {},
   "outputs": [],
   "source": []
  },
  {
   "cell_type": "markdown",
   "metadata": {},
   "source": [
    "大文字か小文字にするかでTrue/Falseに変わります。確認できたでしょうか？\n",
    "\n",
    "次は、変数aに好きな数を代入し、aが偶数ならTrue、そうでなければFalseを出力してください。"
   ]
  },
  {
   "cell_type": "code",
   "execution_count": null,
   "metadata": {},
   "outputs": [],
   "source": [
    "a = input(\"好きな整数を入力してください：\")\n",
    "a = int(a)\n",
    "\n",
    "# この下からコードを記述してください\n",
    "\n",
    "\n"
   ]
  },
  {
   "cell_type": "markdown",
   "metadata": {},
   "source": [
    "以上の条件文は基本的な使い方です。実際のデータで使用する際は、これらを応用します。  \n",
    "また、for文とif文を組み合わせて使うこともありますので紹介します。  \n",
    "\n",
    "0から30までの数で、3の倍数のみ表示させます。"
   ]
  },
  {
   "cell_type": "code",
   "execution_count": null,
   "metadata": {},
   "outputs": [],
   "source": [
    "for num in range(31):   # 変数numに0から30までの数字を与えます\n",
    "    if num%3 == 0:      # 変数numに入る数字が3で割り切れた場合\n",
    "        print(num)       # その変数numの数字を出力します"
   ]
  },
  {
   "cell_type": "markdown",
   "metadata": {},
   "source": [
    "このようにfor文のシーケンスの中からある条件の下で抽出する場合に、for文とif文を組み合わせます。  \n",
    "\n",
    "それでは、リストnumber_listから偶数のみを出力してください。"
   ]
  },
  {
   "cell_type": "code",
   "execution_count": null,
   "metadata": {},
   "outputs": [],
   "source": [
    "number_list = [1, 2, 3, 4, 5, 6, 7, 8, 9, 10]\n"
   ]
  },
  {
   "cell_type": "markdown",
   "metadata": {},
   "source": [
    "## 関数"
   ]
  },
  {
   "cell_type": "markdown",
   "metadata": {},
   "source": [
    "print関数に始まり、すでに関数をいくつか使ってきました。ここでおさらいをしましょう。  \n",
    "\n",
    "関数とは、  \n",
    "入力に対して出力を返す仕組みのことです。  \n",
    "\n",
    "<img src=\"./pic/function.png\" width=\"500\">  "
   ]
  },
  {
   "cell_type": "markdown",
   "metadata": {},
   "source": [
    "### 引数"
   ]
  },
  {
   "cell_type": "markdown",
   "metadata": {},
   "source": [
    "1.1 のcolumnのprint関数で紹介しましたが、  \n",
    "関数名に続けて入力する「丸括弧( )」内のデータのことを引数といいます。  \n",
    "上の図で入力**X**に対応します。\n",
    "\n",
    "```python\n",
    "関数名(引数1, 引数2, ...)\n",
    "```  \n",
    "関数によって入力する引数の内容や個数は異なります。  \n",
    "\n",
    "例えば、  \n",
    "print関数は、表示したい内容を与えてそれを出力する以外に機能がないので、引数は出力させるデータだけです。  \n",
    "散布図を描くことのできるライブラリMatplotlibのscatterメソッド（関数）の引数は、どのデータをx軸とy軸にするか、プロットの色やサイズなど様々です。"
   ]
  },
  {
   "cell_type": "markdown",
   "metadata": {},
   "source": [
    "### 戻り値"
   ]
  },
  {
   "cell_type": "markdown",
   "metadata": {},
   "source": [
    "関数に引数を入力した結果出力されるデータのことを戻り値といいます。  \n",
    "図で出力**y**に対応します。  \n",
    "\n",
    "関数によって出力される戻り値の内容や個数は異なります。  \n",
    "\n",
    "例えば、  \n",
    "print関数は出力したい内容を引数として入力すれば、戻り値は入力した内容だけです。  \n",
    "統計量を算出できるライブラリPandasのdescribeメソッド（関数）は、1つの数値データを引数として入力すると、最大値や最小値だけでなく複数の戻り値である統計量が出力されます。"
   ]
  },
  {
   "cell_type": "markdown",
   "metadata": {},
   "source": [
    "### 組み込み関数"
   ]
  },
  {
   "cell_type": "markdown",
   "metadata": {},
   "source": [
    "Pythonが標準機能として用意している関数を組み込み関数といいます。 \n",
    "組み込み関数は60個以上用意されています。全てを紹介できませんが、既に利用している関数はその一部です。  \n",
    "\n",
    "標準で組み込まれていない関数も多数あり、ある分野に特化した関数（メソッド）の集合体である\"ライブラリ\"をimportして使用することが出来ます。  \n",
    "例えば、**演算を得意とするNumpy**、**データ解析を得意とするPandas**、**可視化を得意とするMatplotlib**など、Pythonは様々な機能をもつライブラリを利用できます。  \n",
    "\n",
    "**どんな処理をしたいかという設計図**が描ければ、どのライブラリを選択するかが絞られます。また、作業者のお気に入りのコーディングによってもやり方は様々です。  \n",
    "\n",
    "公式ドキュメントのリンクを紹介します。  \n",
    "組み込み関数についての解説があります。  \n",
    "[Python 公式ドキュメント](https://docs.python.org/ja/3/library/functions.html)"
   ]
  },
  {
   "cell_type": "markdown",
   "metadata": {},
   "source": [
    "### 定義"
   ]
  },
  {
   "cell_type": "markdown",
   "metadata": {},
   "source": [
    "関数は様々なメソッドや操作の集合体です。  \n",
    "関数の作り方 ー定義する方法ー を説明します。\n",
    "\n",
    "```python\n",
    "def 関数名(引数1, 引数2, ...):\n",
    "    関数ブロック\n",
    "    ・　\n",
    "    ・  \n",
    "    ・  \n",
    "    # 戻り値がある場合\n",
    "    return 出力する変数名\n",
    "```  \n",
    "関数名は、変数名と同様に、その内容が分かる名前にすべきです。  \n",
    "引数はその関数にどんな機能を組み込むかによって引数の内容や個数を指定します。  \n",
    "引数がなくてもその関数を実行したら文字列が出力される関数もあります。  \n",
    "関数名と丸括弧の後に「コロン（:）」を入力して改行し、インデントしたところから関数のコードを入力します。  \n",
    "最後に戻り値がある場合にreturnと、出力するデータを代入した変数の名前を入力します。  "
   ]
  },
  {
   "cell_type": "markdown",
   "metadata": {},
   "source": [
    "組み込み関数には、リスト内の数値を合計するsum関数と要素の個数をカウントするlen関数がありますが、平均値を算出する関数はありません。  \n",
    "変数number_listを定義したときに、その要素から平均値を算出する関数を作ってみましょう。"
   ]
  },
  {
   "cell_type": "code",
   "execution_count": null,
   "metadata": {},
   "outputs": [],
   "source": [
    "def MeanOriginal(x):                # MeanOriginalという関数名\n",
    "    total = sum(x)                  # 変数名と関数名が同じだと関数を上書きしてしまう恐れがあります\n",
    "    count = len(x)\n",
    "    mean_original = total / count   # 平均 = 合計 / 個数\n",
    "    return mean_original        # 平均値の代入される変数mean_originalを返す関数"
   ]
  },
  {
   "cell_type": "markdown",
   "metadata": {},
   "source": [
    "実行してエラーが出ずに左側のInの数字が更新されれば関数が完成したということです。  \n",
    "これを使って以下の問題に取り組みます。"
   ]
  },
  {
   "cell_type": "markdown",
   "metadata": {},
   "source": [
    "### 関数の呼び出し"
   ]
  },
  {
   "cell_type": "markdown",
   "metadata": {},
   "source": [
    "作成した関数を実行することを呼び出し、といいます。  \n",
    "呼び出すときは\n",
    "```python\n",
    "　　関数名()\n",
    "```  \n",
    "関数に引数があるときは  \n",
    "```python\n",
    "　　関数名(引数1, 引数2, ...)\n",
    "```  \n",
    "戻り値を変数に代入するときは\n",
    "```python\n",
    "　　変数 = 関数名(引数1, 引数2, ...)\n",
    "```  \n",
    "とします。  \n",
    "実際に上で定義した関数MeanOriginalを呼び出して結果を出力しましょう。"
   ]
  },
  {
   "cell_type": "code",
   "execution_count": null,
   "metadata": {},
   "outputs": [],
   "source": [
    "number_list = [1, 2, 3, 4, 5, 6, 7, 8, 9, 10]\n",
    "result = MeanOriginal(number_list)  # 関数MeanOriginalに引数としてnumber_listを与え、その戻り値を変数resultに代入\n",
    "print(result)                       # resultを出力"
   ]
  },
  {
   "cell_type": "markdown",
   "metadata": {},
   "source": [
    "6.if文の章の最後に\"変数aに好きな数を代入し、aが偶数ならTrue、そうでなければFalseを出力してください。\"という問題がありました。  \n",
    "そこで記述したコードを利用して、**数字を入力したら偶数かどうかを判定する関数**を作ってみましょう。  \n",
    "最後にその関数を使って（呼び出して）、数字の偶数を判定してみましょう。\n",
    "\n",
    "まず、設計図をイメージしてみましょう。\n",
    "\n",
    "```python\n",
    "def 関数名(引数1, 引数2, ...):\n",
    "    関数ブロック\n",
    "    ・　\n",
    "    ・  \n",
    "    ・  \n",
    "    # 戻り値がある場合\n",
    "    return 出力する変数名\n",
    "```  \n",
    "\n",
    "下記の手順を参考に手を動かしてみましょう。  \n",
    "- 関数名を決めましょう。偶数かどうかを判定する関数なので...\n",
    "- 入力・引数として何を準備したらよいですか？数字が偶数かどうか判定するので、数字の入れ物を準備しなくてはなりませんね...\n",
    "- 最後に出力・戻り値として偶数であれば\"True\"、奇数であれば\"False\"、という結果を出力してほしいので結果の入れ物が必要ですね...\n",
    "- 上で記述したコードに結果の入れ物をどのように盛り込むかも難しいところですね..."
   ]
  },
  {
   "cell_type": "code",
   "execution_count": null,
   "metadata": {},
   "outputs": [],
   "source": []
  },
  {
   "cell_type": "markdown",
   "metadata": {},
   "source": [
    "引数に好きな数を与えて関数を呼び出して結果を出力してみましょう。"
   ]
  },
  {
   "cell_type": "code",
   "execution_count": null,
   "metadata": {},
   "outputs": [],
   "source": []
  },
  {
   "cell_type": "markdown",
   "metadata": {},
   "source": [
    "### ローカル変数"
   ]
  },
  {
   "cell_type": "markdown",
   "metadata": {},
   "source": [
    "決まった場所だけで使える変数をローカル変数といいます。  \n",
    "\n",
    "関数で定義した引数は変数と同じです。この変数は関数の中でのみ有効ですが、関数の外では無効になります。  \n",
    "\n",
    "  <img src=\"./pic/local.png\" width=\"400\"> \n",
    "\n"
   ]
  },
  {
   "cell_type": "markdown",
   "metadata": {},
   "source": [
    "引数をpersonとscoreとし、evaluationが戻り値として得られるfunction関数を定義します。  \n",
    "関数ブロック内ではperson、score、evaluationという変数を用いて、それぞれ\"suzuki\"、90、を代入して、\"A\"と計算されています。  \n",
    "function関数以外の場面で、  \n",
    "person = \"suzuki\"  \n",
    "score = 90  \n",
    "evaluation = \"A\"  \n",
    "これらの変数は使用できません。"
   ]
  },
  {
   "cell_type": "markdown",
   "metadata": {},
   "source": [
    "関数sampleとして、以下の内容を定義します。  \n",
    "この関数の中と外で使用されている同じ変数\"a\"がどのような関係になっているか確認してみましょう。"
   ]
  },
  {
   "cell_type": "code",
   "execution_count": null,
   "metadata": {},
   "outputs": [],
   "source": [
    "def sample():      # 関数sampleを定義\n",
    "    a = 100        # aに100を代入\n",
    "    b = 200        # bに200を代入\n",
    "    c = \"python\"   # cに\"python\"を代入\n",
    "    return a,b,c"
   ]
  },
  {
   "cell_type": "code",
   "execution_count": null,
   "metadata": {},
   "outputs": [],
   "source": [
    "a = 50          # aに50を代入\n",
    "print(a)        # aに代入された値を確認\n",
    "d = sample()    # 関数sampleの実行結果をdに代入\n",
    "print(d)        # 関数sampleの実行結果を出力\n",
    "print(a)        # aを出力"
   ]
  },
  {
   "cell_type": "markdown",
   "metadata": {},
   "source": [
    "関数sampleでaは100と定義しましたが、関数sampleの外で定義したaに上書きされませんでした。"
   ]
  },
  {
   "cell_type": "code",
   "execution_count": null,
   "metadata": {},
   "outputs": [],
   "source": []
  }
 ],
 "metadata": {
  "kernelspec": {
   "display_name": "Python 3",
   "language": "python",
   "name": "python3"
  },
  "language_info": {
   "codemirror_mode": {
    "name": "ipython",
    "version": 3
   },
   "file_extension": ".py",
   "mimetype": "text/x-python",
   "name": "python",
   "nbconvert_exporter": "python",
   "pygments_lexer": "ipython3",
   "version": "3.7.5"
  },
  "toc": {
   "base_numbering": 1,
   "nav_menu": {},
   "number_sections": true,
   "sideBar": true,
   "skip_h1_title": true,
   "title_cell": "目次",
   "title_sidebar": "目次",
   "toc_cell": true,
   "toc_position": {},
   "toc_section_display": true,
   "toc_window_display": true
  }
 },
 "nbformat": 4,
 "nbformat_minor": 4
}
